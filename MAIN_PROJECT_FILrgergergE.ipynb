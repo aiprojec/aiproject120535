{
  "nbformat": 4,
  "nbformat_minor": 0,
  "metadata": {
    "colab": {
      "provenance": [],
      "mount_file_id": "1V2IjZL62JrUd3w5fbvtPxEX15yGd_v3m",
      "authorship_tag": "ABX9TyPacZ7SHcYD5gDCj/0cdIna",
      "include_colab_link": true
    },
    "kernelspec": {
      "name": "python3",
      "display_name": "Python 3"
    },
    "language_info": {
      "name": "python"
    }
  },
  "cells": [
    {
      "cell_type": "markdown",
      "metadata": {
        "id": "view-in-github",
        "colab_type": "text"
      },
      "source": [
        "<a href=\"https://colab.research.google.com/github/aiprojec/aiproject120535/blob/main/MAIN_PROJECT_FILrgergergE.ipynb\" target=\"_parent\"><img src=\"https://colab.research.google.com/assets/colab-badge.svg\" alt=\"Open In Colab\"/></a>"
      ]
    },
    {
      "cell_type": "code",
      "source": [
        "pip install beautifulsoup4"
      ],
      "metadata": {
        "colab": {
          "base_uri": "https://localhost:8080/"
        },
        "id": "4wAbMe6ve-_j",
        "outputId": "feca9e66-8a0a-4456-d1b4-e7c36044c876"
      },
      "execution_count": null,
      "outputs": [
        {
          "output_type": "stream",
          "name": "stdout",
          "text": [
            "Requirement already satisfied: beautifulsoup4 in /usr/local/lib/python3.10/dist-packages (4.11.2)\n",
            "Requirement already satisfied: soupsieve>1.2 in /usr/local/lib/python3.10/dist-packages (from beautifulsoup4) (2.4.1)\n"
          ]
        }
      ]
    },
    {
      "cell_type": "code",
      "source": [
        "pip install google"
      ],
      "metadata": {
        "colab": {
          "base_uri": "https://localhost:8080/"
        },
        "id": "L4BIVUj0fDVe",
        "outputId": "e3a540e8-923c-456d-f4a5-49e124dd00c7"
      },
      "execution_count": null,
      "outputs": [
        {
          "output_type": "stream",
          "name": "stdout",
          "text": [
            "Requirement already satisfied: google in /usr/local/lib/python3.10/dist-packages (2.0.3)\n",
            "Requirement already satisfied: beautifulsoup4 in /usr/local/lib/python3.10/dist-packages (from google) (4.11.2)\n",
            "Requirement already satisfied: soupsieve>1.2 in /usr/local/lib/python3.10/dist-packages (from beautifulsoup4->google) (2.4.1)\n"
          ]
        }
      ]
    },
    {
      "cell_type": "code",
      "source": [
        "from google.colab import drive\n",
        "drive.mount('/content/drive')"
      ],
      "metadata": {
        "colab": {
          "base_uri": "https://localhost:8080/"
        },
        "id": "hY6yPZYVy5Pf",
        "outputId": "c7705ef7-3693-4434-a8d6-d6bb8dc98138"
      },
      "execution_count": 1,
      "outputs": [
        {
          "output_type": "stream",
          "name": "stdout",
          "text": [
            "Drive already mounted at /content/drive; to attempt to forcibly remount, call drive.mount(\"/content/drive\", force_remount=True).\n"
          ]
        }
      ]
    },
    {
      "cell_type": "code",
      "source": [
        "import pandas as pd\n",
        "from googlesearch import search\n",
        "df = pd.read_excel(\"/content/drive/MyDrive/neet edited(porject use).xlsx\")\n",
        "dict = df.to_dict()\n",
        "print(dict)"
      ],
      "metadata": {
        "colab": {
          "base_uri": "https://localhost:8080/"
        },
        "id": "hV-BYQsR1kWG",
        "outputId": "6e7927e3-c54d-4c45-a5c8-5189c6b57ab0"
      },
      "execution_count": 12,
      "outputs": [
        {
          "output_type": "stream",
          "name": "stdout",
          "text": [
            "{'symptom': {0: 'medicine'}, 'eye infection': {0: 'acrivastine'}, 'severe pain': {0: 'aspirin and codeine'}, 'cough': {0: 'Benzonatate'}, 'respiratory allergies': {0: 'Brompheniramine'}, 'antihistamine': {0: 'Cetirizine\\xa0'}, 'runny nose': {0: 'Chlorpheniramine'}, 'pain': {0: 'Codeine'}, 'insomnia': {0: 'Doxylamine'}, 'chest congestion': {0: 'Guaifenesin'}, 'dry cough': {0: 'Homatropine\\xa0'}, 'sinus congestion ': {0: 'Oxymetazoline'}, 'viral fever': {0: 'ACETAMINOPHEN'}, 'body pain': {0: 'crocin advance'}, 'hairfall': {0: 'tropical minoxidil'}, 'indigesation': {0: 'digene'}, 'heartburn relif': {0: 'aluminum hydroxide'}, 'Urinary tract infection': {0: 'aztronam'}, 'breathing trobule': {0: 'budsonide'}, 'migraine': {0: 'camylofin'}, 'uclear': {0: 'famotidine'}, 'muscle spasms': {0: 'fenoverine'}, 'flu': {0: 'tamiflu'}, 'malaria': {0: 'malarone'}, 'pnemonia': {0: 'azithromycin'}, 'diabetes': {0: 'Acarbose'}, 'blood pressure': {0: 'Acebutolol'}, 'excess fluid accumulation': {0: 'Acetazolamide'}, 'primary hypertension': {0: 'Aliskiren'}, 'increasing blood pressure': {0: 'Angiotensin I'}, 'cardiac stimulant': {0: 'Mephentermine'}, 'labor pain': {0: 'Butorphanol'}, 'hemorrhage': {0: 'Desaminooxytocin'}, 'ulcer': {0: 'Misoprostol'}, 'pain management': {0: 'Ropivacaine\\xa0'}, 'irritation': {0: 'Acebrophylline'}, 'skin disorders': {0: 'Alclometasone'}, 'dermatitis': {0: 'Alclometasone Dipropionate'}, 'moisturizer': {0: 'Allantoin'}, 'skin inflammation': {0: 'Amcinonide'}, 'toenail infections': {0: 'Amorolfine'}, 'Merkel-cell carcinoma': {0: 'Avelumab'}, 'sunscreens': {0: 'Bemotrizinol\\xa0'}, 'wounds': {0: 'Biafine'}, 'ringworm': {0: 'Butenafine'}, 'bacterial infections': {0: 'Levofloxacin'}, 'trichomoniasis': {0: 'Metronidazole'}, 'blindness': {0: 'Moxidectin\\xa0'}, 'macular edema': {0: 'Dexamethasone Intravitreal Implant\\xa0'}, 'sinusitis': {0: 'Amoxicillin'}, 'throat infection': {0: 'Azithromycin'}, 'ear infection': {0: 'Cefaclor\\xa0'}, 'migraine.1': {0: 'Phenazone'}, 'gonorrhea': {0: 'Sultamicillin'}, 'anthrax': {0: 'Levofloxacin'}, 'skin infections': {0: 'Hydrocortisone'}, 'otitis media': {0: 'Erythromycin and Sulfisoxazole'}, 'bronchitis': {0: 'Clarithromycin'}, 'kidney failure': {0: 'Erythropoietin'}, 'type 2 diabetes': {0: 'Glimepiride'}, 'high blood pressure': {0: 'Lisinopril'}, 'heart failure': {0: 'Perindopril'}, 'severe liver impairment': {0: 'L-Ornithine L-Aspartate'}, 'fatty liver': {0: 'Metadoxine'}, 'nausea': {0: 'Ondansetron'}, 'schizophrenia': {0: 'Asenapine\\xa0'}, 'insomnia.1': {0: 'Butabarbital'}, 'obsessive-compulsive disorder': {0: 'Clomipramine'}, 'anxiety': {0: 'Hydroxyzine\\xa0'}, 'shift work disorder': {0: 'Modafinil'}, 'depression': {0: 'Sertraline\\xa0'}}\n"
          ]
        }
      ]
    },
    {
      "cell_type": "code",
      "source": [
        "def recommend(symptom):\n",
        "    medicines = dict\n",
        "    if symptom in medicines:\n",
        "        return medicines[symptom]\n",
        "    else:\n",
        "        return \"No specific medicine recommendation for this symptom.\"\n",
        "\n",
        "a=1\n",
        "B='y'\n",
        "while a<2 and B=='y':\n",
        "  symptom = input(\"Enter symptom: \").lower()\n",
        "  medicine = recommend(symptom)\n",
        "  print(\"Recommended medicine: \", medicine)\n",
        "  B=input('Do You Want To Search More Y/N - ').lower()\n",
        "  if medicine!='No specific medicine recommendation for this symptom.':\n",
        "   try:\n",
        "       from googlesearch import search\n",
        "   except ImportError:\n",
        "       print(\"No module named 'google' found\")\n",
        "\n",
        "# to search\n",
        "\n",
        "   c=str(medicine)\n",
        "   query ='BUY '+c\n",
        "\n",
        "   for j in search(query, tld=\"co.in\", num=10, stop=10, pause=2):\n",
        "       print(j)\n",
        "\n"
      ],
      "metadata": {
        "colab": {
          "base_uri": "https://localhost:8080/"
        },
        "id": "cVqZzb9f4eW5",
        "outputId": "b00ac807-4791-4db2-d5e3-c5ad8bdba73f"
      },
      "execution_count": 26,
      "outputs": [
        {
          "name": "stdout",
          "output_type": "stream",
          "text": [
            "Enter symptom: sf\n",
            "Recommended medicine:  No specific medicine recommendation for this symptom.\n",
            "Do You Want To Search More Y/N - n\n"
          ]
        }
      ]
    },
    {
      "cell_type": "code",
      "source": [],
      "metadata": {
        "id": "m0gPX15fmtwn"
      },
      "execution_count": null,
      "outputs": []
    }
  ]
}