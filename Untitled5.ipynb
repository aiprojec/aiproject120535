{
  "nbformat": 4,
  "nbformat_minor": 0,
  "metadata": {
    "colab": {
      "provenance": [],
      "authorship_tag": "ABX9TyPx+v1PtuRuoT6fEe4HlyO9",
      "include_colab_link": true
    },
    "kernelspec": {
      "name": "python3",
      "display_name": "Python 3"
    },
    "language_info": {
      "name": "python"
    }
  },
  "cells": [
    {
      "cell_type": "markdown",
      "metadata": {
        "id": "view-in-github",
        "colab_type": "text"
      },
      "source": [
        "<a href=\"https://colab.research.google.com/github/aiprojec/aiproject120535/blob/main/Untitled5.ipynb\" target=\"_parent\"><img src=\"https://colab.research.google.com/assets/colab-badge.svg\" alt=\"Open In Colab\"/></a>"
      ]
    },
    {
      "cell_type": "code",
      "execution_count": null,
      "metadata": {
        "colab": {
          "base_uri": "https://localhost:8080/"
        },
        "id": "BD-40MPelP0U",
        "outputId": "d2599411-2fa9-44a9-fef5-7578582b2487"
      },
      "outputs": [
        {
          "output_type": "stream",
          "name": "stdout",
          "text": [
            "{'symptom': {0: 'medicine'}, 'eye infection': {0: 'acrivastine'}, 'severe pain': {0: 'aspirin and codeine'}, 'cough': {0: 'Benzonatate'}, 'respiratory allergies': {0: 'Brompheniramine'}, 'antihistamine': {0: 'Cetirizine\\xa0'}, 'runny nose': {0: 'Chlorpheniramine'}, 'pain': {0: 'Codeine'}, 'insomnia': {0: 'Doxylamine'}, 'chest congestion': {0: 'Guaifenesin'}, 'dry cough': {0: 'Homatropine\\xa0'}, 'sinus congestion ': {0: 'Oxymetazoline'}, 'viral fever': {0: 'ACETAMINOPHEN'}, 'body pain': {0: 'crocin advance'}, 'hairfall': {0: 'tropical minoxidil'}, 'indigesation': {0: 'digene'}, 'heartburn relif': {0: 'aluminum hydroxide'}, 'Urinary tract infection': {0: 'aztronam'}, 'breathing trobule': {0: 'budsonide'}, 'migraine': {0: 'camylofin'}, 'uclear': {0: 'famotidine'}, 'muscle spasms': {0: 'fenoverine'}, 'flu': {0: 'tamiflu'}, 'malaria': {0: 'malarone'}, 'pnemonia': {0: 'azithromycin'}, 'diabetes': {0: 'Acarbose'}, 'blood pressure': {0: 'Acebutolol'}, 'excess fluid accumulation': {0: 'Acetazolamide'}, 'primary hypertension': {0: 'Aliskiren'}, 'increasing blood pressure': {0: 'Angiotensin I'}, 'cardiac stimulant': {0: 'Mephentermine'}, 'labor pain': {0: 'Butorphanol'}, 'hemorrhage': {0: 'Desaminooxytocin'}, 'ulcer': {0: 'Misoprostol'}, 'pain management': {0: 'Ropivacaine\\xa0'}, 'irritation': {0: 'Acebrophylline'}, 'skin disorders': {0: 'Alclometasone'}, 'dermatitis': {0: 'Alclometasone Dipropionate'}, 'moisturizer': {0: 'Allantoin'}, 'skin inflammation': {0: 'Amcinonide'}, 'toenail infections': {0: 'Amorolfine'}, 'Merkel-cell carcinoma': {0: 'Avelumab'}, 'sunscreens': {0: 'Bemotrizinol\\xa0'}, 'wounds': {0: 'Biafine'}, 'ringworm': {0: 'Butenafine'}, 'bacterial infections': {0: 'Levofloxacin'}, 'trichomoniasis': {0: 'Metronidazole'}, 'blindness': {0: 'Moxidectin\\xa0'}, 'macular edema': {0: 'Dexamethasone Intravitreal Implant\\xa0'}, 'sinusitis': {0: 'Amoxicillin'}, 'throat infection': {0: 'Azithromycin'}, 'ear infection': {0: 'Cefaclor\\xa0'}, 'migraine.1': {0: 'Phenazone'}, 'gonorrhea': {0: 'Sultamicillin'}, 'anthrax': {0: 'Levofloxacin'}, 'skin infections': {0: 'Hydrocortisone'}, 'otitis media': {0: 'Erythromycin and Sulfisoxazole'}, 'bronchitis': {0: 'Clarithromycin'}, 'kidney failure': {0: 'Erythropoietin'}, 'type 2 diabetes': {0: 'Glimepiride'}, 'high blood pressure': {0: 'Lisinopril'}, 'heart failure': {0: 'Perindopril'}, 'severe liver impairment': {0: 'L-Ornithine L-Aspartate'}, 'fatty liver': {0: 'Metadoxine'}, 'nausea': {0: 'Ondansetron'}, 'schizophrenia': {0: 'Asenapine\\xa0'}, 'insomnia.1': {0: 'Butabarbital'}, 'obsessive-compulsive disorder': {0: 'Clomipramine'}, 'anxiety': {0: 'Hydroxyzine\\xa0'}, 'shift work disorder': {0: 'Modafinil'}, 'depression': {0: 'Sertraline\\xa0'}}\n"
          ]
        }
      ],
      "source": [
        "import pandas as pd\n",
        "df = pd.read_excel(\"/content/neet edited(porject use).xlsx\")\n",
        "dict = df.to_dict()\n",
        "print(dict)"
      ]
    }
  ]
}